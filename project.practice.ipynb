{
  "cells": [
    {
      "metadata": {
        "trusted": true
      },
      "cell_type": "code",
      "source": "import pandas as pd\nimport numpy as np\nloc = \"MERGED2016_17_PP.csv\"\ndfraw = pd.read_csv(loc)    #importing file\ndfraw.head()   #print head of data frame\n",
      "execution_count": 3,
      "outputs": [
        {
          "output_type": "stream",
          "text": "/home/nbuser/anaconda3_501/lib/python3.6/site-packages/IPython/core/interactiveshell.py:2728: DtypeWarning: Columns (6,9,1725,1726,1727,1728,1729,1743,1815,1816,1817,1818,1823,1824,1830,1831) have mixed types. Specify dtype option on import or set low_memory=False.\n  interactivity=interactivity, compiler=compiler, result=result)\n",
          "name": "stderr"
        },
        {
          "output_type": "execute_result",
          "execution_count": 3,
          "data": {
            "text/html": "<div>\n<style scoped>\n    .dataframe tbody tr th:only-of-type {\n        vertical-align: middle;\n    }\n\n    .dataframe tbody tr th {\n        vertical-align: top;\n    }\n\n    .dataframe thead th {\n        text-align: right;\n    }\n</style>\n<table border=\"1\" class=\"dataframe\">\n  <thead>\n    <tr style=\"text-align: right;\">\n      <th></th>\n      <th>UNITID</th>\n      <th>OPEID</th>\n      <th>OPEID6</th>\n      <th>INSTNM</th>\n      <th>CITY</th>\n      <th>STABBR</th>\n      <th>ZIP</th>\n      <th>ACCREDAGENCY</th>\n      <th>INSTURL</th>\n      <th>NPCURL</th>\n      <th>...</th>\n      <th>D150_4_LOANNOPELL</th>\n      <th>C150_L4_LOANNOPELL</th>\n      <th>D150_L4_LOANNOPELL</th>\n      <th>C150_4_NOLOANNOPELL</th>\n      <th>D150_4_NOLOANNOPELL</th>\n      <th>C150_L4_NOLOANNOPELL</th>\n      <th>D150_L4_NOLOANNOPELL</th>\n      <th>GT_28K_P10</th>\n      <th>GT_28K_P8</th>\n      <th>GT_28K_P6</th>\n    </tr>\n  </thead>\n  <tbody>\n    <tr>\n      <th>0</th>\n      <td>100654</td>\n      <td>100200</td>\n      <td>1002</td>\n      <td>Alabama A &amp; M University</td>\n      <td>Normal</td>\n      <td>AL</td>\n      <td>35762</td>\n      <td>Southern Association of Colleges and Schools C...</td>\n      <td>www.aamu.edu/</td>\n      <td>www2.aamu.edu/scripts/netpricecalc/npcalc.htm</td>\n      <td>...</td>\n      <td>195.0</td>\n      <td>NaN</td>\n      <td>NaN</td>\n      <td>0.3258</td>\n      <td>89.0</td>\n      <td>NaN</td>\n      <td>NaN</td>\n      <td>NaN</td>\n      <td>NaN</td>\n      <td>NaN</td>\n    </tr>\n    <tr>\n      <th>1</th>\n      <td>100663</td>\n      <td>105200</td>\n      <td>1052</td>\n      <td>University of Alabama at Birmingham</td>\n      <td>Birmingham</td>\n      <td>AL</td>\n      <td>35294-0110</td>\n      <td>Southern Association of Colleges and Schools C...</td>\n      <td>www.uab.edu</td>\n      <td>uab.studentaidcalculator.com/survey.aspx</td>\n      <td>...</td>\n      <td>229.0</td>\n      <td>NaN</td>\n      <td>NaN</td>\n      <td>0.5603</td>\n      <td>630.0</td>\n      <td>NaN</td>\n      <td>NaN</td>\n      <td>NaN</td>\n      <td>NaN</td>\n      <td>NaN</td>\n    </tr>\n    <tr>\n      <th>2</th>\n      <td>100690</td>\n      <td>2503400</td>\n      <td>25034</td>\n      <td>Amridge University</td>\n      <td>Montgomery</td>\n      <td>AL</td>\n      <td>36117-3553</td>\n      <td>Southern Association of Colleges and Schools C...</td>\n      <td>www.amridgeuniversity.edu</td>\n      <td>www2.amridgeuniversity.edu:9091/</td>\n      <td>...</td>\n      <td>NaN</td>\n      <td>NaN</td>\n      <td>NaN</td>\n      <td>0.5000</td>\n      <td>2.0</td>\n      <td>NaN</td>\n      <td>NaN</td>\n      <td>NaN</td>\n      <td>NaN</td>\n      <td>NaN</td>\n    </tr>\n    <tr>\n      <th>3</th>\n      <td>100706</td>\n      <td>105500</td>\n      <td>1055</td>\n      <td>University of Alabama in Huntsville</td>\n      <td>Huntsville</td>\n      <td>AL</td>\n      <td>35899</td>\n      <td>Southern Association of Colleges and Schools C...</td>\n      <td>www.uah.edu</td>\n      <td>finaid.uah.edu/</td>\n      <td>...</td>\n      <td>135.0</td>\n      <td>NaN</td>\n      <td>NaN</td>\n      <td>0.5606</td>\n      <td>264.0</td>\n      <td>NaN</td>\n      <td>NaN</td>\n      <td>NaN</td>\n      <td>NaN</td>\n      <td>NaN</td>\n    </tr>\n    <tr>\n      <th>4</th>\n      <td>100724</td>\n      <td>100500</td>\n      <td>1005</td>\n      <td>Alabama State University</td>\n      <td>Montgomery</td>\n      <td>AL</td>\n      <td>36104-0271</td>\n      <td>Southern Association of Colleges and Schools C...</td>\n      <td>www.alasu.edu</td>\n      <td>www.alasu.edu/cost-aid/forms/calculator/index....</td>\n      <td>...</td>\n      <td>55.0</td>\n      <td>NaN</td>\n      <td>NaN</td>\n      <td>0.2277</td>\n      <td>101.0</td>\n      <td>NaN</td>\n      <td>NaN</td>\n      <td>NaN</td>\n      <td>NaN</td>\n      <td>NaN</td>\n    </tr>\n  </tbody>\n</table>\n<p>5 rows × 1847 columns</p>\n</div>",
            "text/plain": "   UNITID    OPEID  OPEID6                               INSTNM        CITY  \\\n0  100654   100200    1002             Alabama A & M University      Normal   \n1  100663   105200    1052  University of Alabama at Birmingham  Birmingham   \n2  100690  2503400   25034                   Amridge University  Montgomery   \n3  100706   105500    1055  University of Alabama in Huntsville  Huntsville   \n4  100724   100500    1005             Alabama State University  Montgomery   \n\n  STABBR         ZIP                                       ACCREDAGENCY  \\\n0     AL       35762  Southern Association of Colleges and Schools C...   \n1     AL  35294-0110  Southern Association of Colleges and Schools C...   \n2     AL  36117-3553  Southern Association of Colleges and Schools C...   \n3     AL       35899  Southern Association of Colleges and Schools C...   \n4     AL  36104-0271  Southern Association of Colleges and Schools C...   \n\n                     INSTURL  \\\n0              www.aamu.edu/   \n1                www.uab.edu   \n2  www.amridgeuniversity.edu   \n3                www.uah.edu   \n4              www.alasu.edu   \n\n                                              NPCURL    ...      \\\n0      www2.aamu.edu/scripts/netpricecalc/npcalc.htm    ...       \n1           uab.studentaidcalculator.com/survey.aspx    ...       \n2                   www2.amridgeuniversity.edu:9091/    ...       \n3                                    finaid.uah.edu/    ...       \n4  www.alasu.edu/cost-aid/forms/calculator/index....    ...       \n\n   D150_4_LOANNOPELL  C150_L4_LOANNOPELL  D150_L4_LOANNOPELL  \\\n0              195.0                 NaN                 NaN   \n1              229.0                 NaN                 NaN   \n2                NaN                 NaN                 NaN   \n3              135.0                 NaN                 NaN   \n4               55.0                 NaN                 NaN   \n\n   C150_4_NOLOANNOPELL  D150_4_NOLOANNOPELL  C150_L4_NOLOANNOPELL  \\\n0               0.3258                 89.0                   NaN   \n1               0.5603                630.0                   NaN   \n2               0.5000                  2.0                   NaN   \n3               0.5606                264.0                   NaN   \n4               0.2277                101.0                   NaN   \n\n   D150_L4_NOLOANNOPELL  GT_28K_P10  GT_28K_P8  GT_28K_P6  \n0                   NaN         NaN        NaN        NaN  \n1                   NaN         NaN        NaN        NaN  \n2                   NaN         NaN        NaN        NaN  \n3                   NaN         NaN        NaN        NaN  \n4                   NaN         NaN        NaN        NaN  \n\n[5 rows x 1847 columns]"
          },
          "metadata": {}
        }
      ]
    },
    {
      "metadata": {
        "trusted": true
      },
      "cell_type": "code",
      "source": "dfraw.shape",
      "execution_count": 3,
      "outputs": [
        {
          "output_type": "execute_result",
          "execution_count": 3,
          "data": {
            "text/plain": "(7175, 1847)"
          },
          "metadata": {}
        }
      ]
    },
    {
      "metadata": {
        "trusted": true
      },
      "cell_type": "code",
      "source": "df = dfraw[[\"C100_4\", \"NPT4_PUB\"]]  #importing variable of interest\ndf.columns = [\"completion\", \"public_school_tuition\"] #naming differently imported variables",
      "execution_count": 4,
      "outputs": []
    },
    {
      "metadata": {
        "trusted": true
      },
      "cell_type": "code",
      "source": "df.head()",
      "execution_count": 5,
      "outputs": [
        {
          "output_type": "execute_result",
          "execution_count": 5,
          "data": {
            "text/html": "<div>\n<style scoped>\n    .dataframe tbody tr th:only-of-type {\n        vertical-align: middle;\n    }\n\n    .dataframe tbody tr th {\n        vertical-align: top;\n    }\n\n    .dataframe thead th {\n        text-align: right;\n    }\n</style>\n<table border=\"1\" class=\"dataframe\">\n  <thead>\n    <tr style=\"text-align: right;\">\n      <th></th>\n      <th>completion</th>\n      <th>public_school_tuition</th>\n    </tr>\n  </thead>\n  <tbody>\n    <tr>\n      <th>0</th>\n      <td>0.0643</td>\n      <td>15567.0</td>\n    </tr>\n    <tr>\n      <th>1</th>\n      <td>0.3018</td>\n      <td>16475.0</td>\n    </tr>\n    <tr>\n      <th>2</th>\n      <td>0.1429</td>\n      <td>NaN</td>\n    </tr>\n    <tr>\n      <th>3</th>\n      <td>0.1533</td>\n      <td>19423.0</td>\n    </tr>\n    <tr>\n      <th>4</th>\n      <td>0.0725</td>\n      <td>15037.0</td>\n    </tr>\n  </tbody>\n</table>\n</div>",
            "text/plain": "   completion  public_school_tuition\n0      0.0643                15567.0\n1      0.3018                16475.0\n2      0.1429                    NaN\n3      0.1533                19423.0\n4      0.0725                15037.0"
          },
          "metadata": {}
        }
      ]
    },
    {
      "metadata": {
        "trusted": true
      },
      "cell_type": "code",
      "source": "df.corr()",
      "execution_count": 6,
      "outputs": [
        {
          "output_type": "execute_result",
          "execution_count": 6,
          "data": {
            "text/html": "<div>\n<style scoped>\n    .dataframe tbody tr th:only-of-type {\n        vertical-align: middle;\n    }\n\n    .dataframe tbody tr th {\n        vertical-align: top;\n    }\n\n    .dataframe thead th {\n        text-align: right;\n    }\n</style>\n<table border=\"1\" class=\"dataframe\">\n  <thead>\n    <tr style=\"text-align: right;\">\n      <th></th>\n      <th>completion</th>\n      <th>public_school_tuition</th>\n    </tr>\n  </thead>\n  <tbody>\n    <tr>\n      <th>completion</th>\n      <td>1.000000</td>\n      <td>0.515731</td>\n    </tr>\n    <tr>\n      <th>public_school_tuition</th>\n      <td>0.515731</td>\n      <td>1.000000</td>\n    </tr>\n  </tbody>\n</table>\n</div>",
            "text/plain": "                       completion  public_school_tuition\ncompletion               1.000000               0.515731\npublic_school_tuition    0.515731               1.000000"
          },
          "metadata": {}
        }
      ]
    },
    {
      "metadata": {
        "trusted": true
      },
      "cell_type": "code",
      "source": "df[\"expenditures_per_student\"] = dfraw[\"INEXPFTE\"] #importing additional variables and changing names in the same time\ndf[\"adm_rate\"] = dfraw[\"ADM_RATE\"]\ndf[\"pell_grant_rate\"] = dfraw[\"PCTPELL\"]\ndf.head()",
      "execution_count": 7,
      "outputs": [
        {
          "output_type": "stream",
          "text": "/home/nbuser/anaconda3_501/lib/python3.6/site-packages/ipykernel/__main__.py:1: SettingWithCopyWarning: \nA value is trying to be set on a copy of a slice from a DataFrame.\nTry using .loc[row_indexer,col_indexer] = value instead\n\nSee the caveats in the documentation: http://pandas.pydata.org/pandas-docs/stable/indexing.html#indexing-view-versus-copy\n  if __name__ == '__main__':\n/home/nbuser/anaconda3_501/lib/python3.6/site-packages/ipykernel/__main__.py:2: SettingWithCopyWarning: \nA value is trying to be set on a copy of a slice from a DataFrame.\nTry using .loc[row_indexer,col_indexer] = value instead\n\nSee the caveats in the documentation: http://pandas.pydata.org/pandas-docs/stable/indexing.html#indexing-view-versus-copy\n  from ipykernel import kernelapp as app\n/home/nbuser/anaconda3_501/lib/python3.6/site-packages/ipykernel/__main__.py:3: SettingWithCopyWarning: \nA value is trying to be set on a copy of a slice from a DataFrame.\nTry using .loc[row_indexer,col_indexer] = value instead\n\nSee the caveats in the documentation: http://pandas.pydata.org/pandas-docs/stable/indexing.html#indexing-view-versus-copy\n  app.launch_new_instance()\n",
          "name": "stderr"
        },
        {
          "output_type": "execute_result",
          "execution_count": 7,
          "data": {
            "text/html": "<div>\n<style scoped>\n    .dataframe tbody tr th:only-of-type {\n        vertical-align: middle;\n    }\n\n    .dataframe tbody tr th {\n        vertical-align: top;\n    }\n\n    .dataframe thead th {\n        text-align: right;\n    }\n</style>\n<table border=\"1\" class=\"dataframe\">\n  <thead>\n    <tr style=\"text-align: right;\">\n      <th></th>\n      <th>completion</th>\n      <th>public_school_tuition</th>\n      <th>expenditures_per_student</th>\n      <th>adm_rate</th>\n      <th>pell_grant_rate</th>\n    </tr>\n  </thead>\n  <tbody>\n    <tr>\n      <th>0</th>\n      <td>0.0643</td>\n      <td>15567.0</td>\n      <td>5888.0</td>\n      <td>0.8738</td>\n      <td>0.7039</td>\n    </tr>\n    <tr>\n      <th>1</th>\n      <td>0.3018</td>\n      <td>16475.0</td>\n      <td>17055.0</td>\n      <td>0.5814</td>\n      <td>0.3525</td>\n    </tr>\n    <tr>\n      <th>2</th>\n      <td>0.1429</td>\n      <td>NaN</td>\n      <td>5417.0</td>\n      <td>NaN</td>\n      <td>0.6971</td>\n    </tr>\n    <tr>\n      <th>3</th>\n      <td>0.1533</td>\n      <td>19423.0</td>\n      <td>10558.0</td>\n      <td>0.7628</td>\n      <td>0.2949</td>\n    </tr>\n    <tr>\n      <th>4</th>\n      <td>0.0725</td>\n      <td>15037.0</td>\n      <td>7889.0</td>\n      <td>0.4590</td>\n      <td>0.7815</td>\n    </tr>\n  </tbody>\n</table>\n</div>",
            "text/plain": "   completion  public_school_tuition  expenditures_per_student  adm_rate  \\\n0      0.0643                15567.0                    5888.0    0.8738   \n1      0.3018                16475.0                   17055.0    0.5814   \n2      0.1429                    NaN                    5417.0       NaN   \n3      0.1533                19423.0                   10558.0    0.7628   \n4      0.0725                15037.0                    7889.0    0.4590   \n\n   pell_grant_rate  \n0           0.7039  \n1           0.3525  \n2           0.6971  \n3           0.2949  \n4           0.7815  "
          },
          "metadata": {}
        }
      ]
    },
    {
      "metadata": {
        "trusted": true
      },
      "cell_type": "code",
      "source": "# adding race/ethnicity as variable of interest\ndf[\"white\"] = dfraw[\"UGDS_WHITE\"]\ndf[\"black\"] = dfraw[\"UGDS_BLACK\"]\ndf[\"hispanic\"] = dfraw[\"UGDS_HISP\"]\ndf[\"asian\"] = dfraw[\"UGDS_ASIAN\"]\ndf[\"american_indian\"] = dfraw[\"UGDS_AIAN\"]\ndf[\"hawaiian_pcislander\"] = dfraw[\"UGDS_NHPI\"]\ndf[\"race_ethnicity_two\"] = dfraw[\"UGDS_2MOR\"]\ndf[\"nonresident\"] = dfraw[\"UGDS_NRA\"]\ndf[\"unknown\"] = dfraw[\"UGDS_UNKN\"]",
      "execution_count": 7,
      "outputs": [
        {
          "output_type": "stream",
          "text": "/home/nbuser/anaconda3_501/lib/python3.6/site-packages/ipykernel/__main__.py:2: SettingWithCopyWarning: \nA value is trying to be set on a copy of a slice from a DataFrame.\nTry using .loc[row_indexer,col_indexer] = value instead\n\nSee the caveats in the documentation: http://pandas.pydata.org/pandas-docs/stable/indexing.html#indexing-view-versus-copy\n  from ipykernel import kernelapp as app\n/home/nbuser/anaconda3_501/lib/python3.6/site-packages/ipykernel/__main__.py:3: SettingWithCopyWarning: \nA value is trying to be set on a copy of a slice from a DataFrame.\nTry using .loc[row_indexer,col_indexer] = value instead\n\nSee the caveats in the documentation: http://pandas.pydata.org/pandas-docs/stable/indexing.html#indexing-view-versus-copy\n  app.launch_new_instance()\n/home/nbuser/anaconda3_501/lib/python3.6/site-packages/ipykernel/__main__.py:4: SettingWithCopyWarning: \nA value is trying to be set on a copy of a slice from a DataFrame.\nTry using .loc[row_indexer,col_indexer] = value instead\n\nSee the caveats in the documentation: http://pandas.pydata.org/pandas-docs/stable/indexing.html#indexing-view-versus-copy\n/home/nbuser/anaconda3_501/lib/python3.6/site-packages/ipykernel/__main__.py:5: SettingWithCopyWarning: \nA value is trying to be set on a copy of a slice from a DataFrame.\nTry using .loc[row_indexer,col_indexer] = value instead\n\nSee the caveats in the documentation: http://pandas.pydata.org/pandas-docs/stable/indexing.html#indexing-view-versus-copy\n/home/nbuser/anaconda3_501/lib/python3.6/site-packages/ipykernel/__main__.py:6: SettingWithCopyWarning: \nA value is trying to be set on a copy of a slice from a DataFrame.\nTry using .loc[row_indexer,col_indexer] = value instead\n\nSee the caveats in the documentation: http://pandas.pydata.org/pandas-docs/stable/indexing.html#indexing-view-versus-copy\n/home/nbuser/anaconda3_501/lib/python3.6/site-packages/ipykernel/__main__.py:7: SettingWithCopyWarning: \nA value is trying to be set on a copy of a slice from a DataFrame.\nTry using .loc[row_indexer,col_indexer] = value instead\n\nSee the caveats in the documentation: http://pandas.pydata.org/pandas-docs/stable/indexing.html#indexing-view-versus-copy\n/home/nbuser/anaconda3_501/lib/python3.6/site-packages/ipykernel/__main__.py:8: SettingWithCopyWarning: \nA value is trying to be set on a copy of a slice from a DataFrame.\nTry using .loc[row_indexer,col_indexer] = value instead\n\nSee the caveats in the documentation: http://pandas.pydata.org/pandas-docs/stable/indexing.html#indexing-view-versus-copy\n/home/nbuser/anaconda3_501/lib/python3.6/site-packages/ipykernel/__main__.py:9: SettingWithCopyWarning: \nA value is trying to be set on a copy of a slice from a DataFrame.\nTry using .loc[row_indexer,col_indexer] = value instead\n\nSee the caveats in the documentation: http://pandas.pydata.org/pandas-docs/stable/indexing.html#indexing-view-versus-copy\n/home/nbuser/anaconda3_501/lib/python3.6/site-packages/ipykernel/__main__.py:10: SettingWithCopyWarning: \nA value is trying to be set on a copy of a slice from a DataFrame.\nTry using .loc[row_indexer,col_indexer] = value instead\n\nSee the caveats in the documentation: http://pandas.pydata.org/pandas-docs/stable/indexing.html#indexing-view-versus-copy\n",
          "name": "stderr"
        }
      ]
    },
    {
      "metadata": {
        "trusted": true
      },
      "cell_type": "code",
      "source": "df.corr()",
      "execution_count": 8,
      "outputs": [
        {
          "output_type": "execute_result",
          "execution_count": 8,
          "data": {
            "text/html": "<div>\n<style scoped>\n    .dataframe tbody tr th:only-of-type {\n        vertical-align: middle;\n    }\n\n    .dataframe tbody tr th {\n        vertical-align: top;\n    }\n\n    .dataframe thead th {\n        text-align: right;\n    }\n</style>\n<table border=\"1\" class=\"dataframe\">\n  <thead>\n    <tr style=\"text-align: right;\">\n      <th></th>\n      <th>completion</th>\n      <th>public_school_tuition</th>\n      <th>white</th>\n      <th>black</th>\n      <th>hispanic</th>\n      <th>asian</th>\n      <th>american_indian</th>\n      <th>hawaiian_pcislander</th>\n      <th>race_ethnicity_two</th>\n      <th>nonresident</th>\n      <th>unknown</th>\n    </tr>\n  </thead>\n  <tbody>\n    <tr>\n      <th>completion</th>\n      <td>1.000000</td>\n      <td>0.515731</td>\n      <td>0.278313</td>\n      <td>-0.291535</td>\n      <td>-0.149864</td>\n      <td>0.263919</td>\n      <td>-0.042858</td>\n      <td>-0.072222</td>\n      <td>0.171952</td>\n      <td>0.176216</td>\n      <td>-0.166568</td>\n    </tr>\n    <tr>\n      <th>public_school_tuition</th>\n      <td>0.515731</td>\n      <td>1.000000</td>\n      <td>0.202425</td>\n      <td>0.003498</td>\n      <td>-0.235117</td>\n      <td>0.042371</td>\n      <td>-0.107501</td>\n      <td>-0.077829</td>\n      <td>0.018126</td>\n      <td>0.204074</td>\n      <td>-0.013419</td>\n    </tr>\n    <tr>\n      <th>white</th>\n      <td>0.278313</td>\n      <td>0.202425</td>\n      <td>1.000000</td>\n      <td>-0.487208</td>\n      <td>-0.565485</td>\n      <td>-0.225557</td>\n      <td>-0.096462</td>\n      <td>-0.104106</td>\n      <td>0.007263</td>\n      <td>-0.091099</td>\n      <td>-0.173129</td>\n    </tr>\n    <tr>\n      <th>black</th>\n      <td>-0.291535</td>\n      <td>0.003498</td>\n      <td>-0.487208</td>\n      <td>1.000000</td>\n      <td>-0.208349</td>\n      <td>-0.126757</td>\n      <td>-0.092085</td>\n      <td>-0.039819</td>\n      <td>-0.106087</td>\n      <td>-0.121283</td>\n      <td>-0.032272</td>\n    </tr>\n    <tr>\n      <th>hispanic</th>\n      <td>-0.149864</td>\n      <td>-0.235117</td>\n      <td>-0.565485</td>\n      <td>-0.208349</td>\n      <td>1.000000</td>\n      <td>0.013849</td>\n      <td>-0.062749</td>\n      <td>-0.017736</td>\n      <td>-0.099518</td>\n      <td>-0.064033</td>\n      <td>-0.091325</td>\n    </tr>\n    <tr>\n      <th>asian</th>\n      <td>0.263919</td>\n      <td>0.042371</td>\n      <td>-0.225557</td>\n      <td>-0.126757</td>\n      <td>0.013849</td>\n      <td>1.000000</td>\n      <td>-0.053453</td>\n      <td>0.103119</td>\n      <td>0.095215</td>\n      <td>0.159135</td>\n      <td>-0.016698</td>\n    </tr>\n    <tr>\n      <th>american_indian</th>\n      <td>-0.042858</td>\n      <td>-0.107501</td>\n      <td>-0.096462</td>\n      <td>-0.092085</td>\n      <td>-0.062749</td>\n      <td>-0.053453</td>\n      <td>1.000000</td>\n      <td>-0.004183</td>\n      <td>0.007327</td>\n      <td>-0.040509</td>\n      <td>-0.023594</td>\n    </tr>\n    <tr>\n      <th>hawaiian_pcislander</th>\n      <td>-0.072222</td>\n      <td>-0.077829</td>\n      <td>-0.104106</td>\n      <td>-0.039819</td>\n      <td>-0.017736</td>\n      <td>0.103119</td>\n      <td>-0.004183</td>\n      <td>1.000000</td>\n      <td>0.040411</td>\n      <td>-0.013472</td>\n      <td>-0.009029</td>\n    </tr>\n    <tr>\n      <th>race_ethnicity_two</th>\n      <td>0.171952</td>\n      <td>0.018126</td>\n      <td>0.007263</td>\n      <td>-0.106087</td>\n      <td>-0.099518</td>\n      <td>0.095215</td>\n      <td>0.007327</td>\n      <td>0.040411</td>\n      <td>1.000000</td>\n      <td>0.028082</td>\n      <td>-0.014676</td>\n    </tr>\n    <tr>\n      <th>nonresident</th>\n      <td>0.176216</td>\n      <td>0.204074</td>\n      <td>-0.091099</td>\n      <td>-0.121283</td>\n      <td>-0.064033</td>\n      <td>0.159135</td>\n      <td>-0.040509</td>\n      <td>-0.013472</td>\n      <td>0.028082</td>\n      <td>1.000000</td>\n      <td>-0.001138</td>\n    </tr>\n    <tr>\n      <th>unknown</th>\n      <td>-0.166568</td>\n      <td>-0.013419</td>\n      <td>-0.173129</td>\n      <td>-0.032272</td>\n      <td>-0.091325</td>\n      <td>-0.016698</td>\n      <td>-0.023594</td>\n      <td>-0.009029</td>\n      <td>-0.014676</td>\n      <td>-0.001138</td>\n      <td>1.000000</td>\n    </tr>\n  </tbody>\n</table>\n</div>",
            "text/plain": "                       completion  public_school_tuition     white     black  \\\ncompletion               1.000000               0.515731  0.278313 -0.291535   \npublic_school_tuition    0.515731               1.000000  0.202425  0.003498   \nwhite                    0.278313               0.202425  1.000000 -0.487208   \nblack                   -0.291535               0.003498 -0.487208  1.000000   \nhispanic                -0.149864              -0.235117 -0.565485 -0.208349   \nasian                    0.263919               0.042371 -0.225557 -0.126757   \namerican_indian         -0.042858              -0.107501 -0.096462 -0.092085   \nhawaiian_pcislander     -0.072222              -0.077829 -0.104106 -0.039819   \nrace_ethnicity_two       0.171952               0.018126  0.007263 -0.106087   \nnonresident              0.176216               0.204074 -0.091099 -0.121283   \nunknown                 -0.166568              -0.013419 -0.173129 -0.032272   \n\n                       hispanic     asian  american_indian  \\\ncompletion            -0.149864  0.263919        -0.042858   \npublic_school_tuition -0.235117  0.042371        -0.107501   \nwhite                 -0.565485 -0.225557        -0.096462   \nblack                 -0.208349 -0.126757        -0.092085   \nhispanic               1.000000  0.013849        -0.062749   \nasian                  0.013849  1.000000        -0.053453   \namerican_indian       -0.062749 -0.053453         1.000000   \nhawaiian_pcislander   -0.017736  0.103119        -0.004183   \nrace_ethnicity_two    -0.099518  0.095215         0.007327   \nnonresident           -0.064033  0.159135        -0.040509   \nunknown               -0.091325 -0.016698        -0.023594   \n\n                       hawaiian_pcislander  race_ethnicity_two  nonresident  \\\ncompletion                       -0.072222            0.171952     0.176216   \npublic_school_tuition            -0.077829            0.018126     0.204074   \nwhite                            -0.104106            0.007263    -0.091099   \nblack                            -0.039819           -0.106087    -0.121283   \nhispanic                         -0.017736           -0.099518    -0.064033   \nasian                             0.103119            0.095215     0.159135   \namerican_indian                  -0.004183            0.007327    -0.040509   \nhawaiian_pcislander               1.000000            0.040411    -0.013472   \nrace_ethnicity_two                0.040411            1.000000     0.028082   \nnonresident                      -0.013472            0.028082     1.000000   \nunknown                          -0.009029           -0.014676    -0.001138   \n\n                        unknown  \ncompletion            -0.166568  \npublic_school_tuition -0.013419  \nwhite                 -0.173129  \nblack                 -0.032272  \nhispanic              -0.091325  \nasian                 -0.016698  \namerican_indian       -0.023594  \nhawaiian_pcislander   -0.009029  \nrace_ethnicity_two    -0.014676  \nnonresident           -0.001138  \nunknown                1.000000  "
          },
          "metadata": {}
        }
      ]
    },
    {
      "metadata": {
        "trusted": true
      },
      "cell_type": "code",
      "source": "df.dropna(inplace = True)\ndf.head()",
      "execution_count": 14,
      "outputs": [
        {
          "output_type": "stream",
          "text": "/home/nbuser/anaconda3_501/lib/python3.6/site-packages/ipykernel/__main__.py:1: SettingWithCopyWarning: \nA value is trying to be set on a copy of a slice from a DataFrame\n\nSee the caveats in the documentation: http://pandas.pydata.org/pandas-docs/stable/indexing.html#indexing-view-versus-copy\n  if __name__ == '__main__':\n",
          "name": "stderr"
        },
        {
          "output_type": "execute_result",
          "execution_count": 14,
          "data": {
            "text/html": "<div>\n<style scoped>\n    .dataframe tbody tr th:only-of-type {\n        vertical-align: middle;\n    }\n\n    .dataframe tbody tr th {\n        vertical-align: top;\n    }\n\n    .dataframe thead th {\n        text-align: right;\n    }\n</style>\n<table border=\"1\" class=\"dataframe\">\n  <thead>\n    <tr style=\"text-align: right;\">\n      <th></th>\n      <th>completion</th>\n      <th>public_school_tuition</th>\n      <th>expenditures_per_student</th>\n      <th>adm_rate</th>\n      <th>pell_grant_rate</th>\n      <th>white</th>\n      <th>black</th>\n      <th>hispanic</th>\n      <th>asian</th>\n      <th>american_indian</th>\n      <th>hawaiian_pcislander</th>\n      <th>race_ethnicity_two</th>\n      <th>nonresident</th>\n      <th>unknown</th>\n    </tr>\n  </thead>\n  <tbody>\n    <tr>\n      <th>0</th>\n      <td>0.0643</td>\n      <td>15567.0</td>\n      <td>5888.0</td>\n      <td>0.8738</td>\n      <td>0.7039</td>\n      <td>0.0256</td>\n      <td>0.9129</td>\n      <td>0.0076</td>\n      <td>0.0019</td>\n      <td>0.0024</td>\n      <td>0.0017</td>\n      <td>0.0401</td>\n      <td>0.0065</td>\n      <td>0.0013</td>\n    </tr>\n    <tr>\n      <th>1</th>\n      <td>0.3018</td>\n      <td>16475.0</td>\n      <td>17055.0</td>\n      <td>0.5814</td>\n      <td>0.3525</td>\n      <td>0.5786</td>\n      <td>0.2626</td>\n      <td>0.0309</td>\n      <td>0.0598</td>\n      <td>0.0028</td>\n      <td>0.0004</td>\n      <td>0.0387</td>\n      <td>0.0179</td>\n      <td>0.0083</td>\n    </tr>\n    <tr>\n      <th>3</th>\n      <td>0.1533</td>\n      <td>19423.0</td>\n      <td>10558.0</td>\n      <td>0.7628</td>\n      <td>0.2949</td>\n      <td>0.7148</td>\n      <td>0.1131</td>\n      <td>0.0411</td>\n      <td>0.0414</td>\n      <td>0.0120</td>\n      <td>0.0000</td>\n      <td>0.0181</td>\n      <td>0.0303</td>\n      <td>0.0292</td>\n    </tr>\n    <tr>\n      <th>4</th>\n      <td>0.0725</td>\n      <td>15037.0</td>\n      <td>7889.0</td>\n      <td>0.4590</td>\n      <td>0.7815</td>\n      <td>0.0138</td>\n      <td>0.9337</td>\n      <td>0.0111</td>\n      <td>0.0028</td>\n      <td>0.0013</td>\n      <td>0.0004</td>\n      <td>0.0111</td>\n      <td>0.0159</td>\n      <td>0.0100</td>\n    </tr>\n    <tr>\n      <th>5</th>\n      <td>0.4385</td>\n      <td>21676.0</td>\n      <td>10478.0</td>\n      <td>0.5259</td>\n      <td>0.1938</td>\n      <td>0.7841</td>\n      <td>0.1037</td>\n      <td>0.0437</td>\n      <td>0.0118</td>\n      <td>0.0036</td>\n      <td>0.0009</td>\n      <td>0.0297</td>\n      <td>0.0192</td>\n      <td>0.0033</td>\n    </tr>\n  </tbody>\n</table>\n</div>",
            "text/plain": "   completion  public_school_tuition  expenditures_per_student  adm_rate  \\\n0      0.0643                15567.0                    5888.0    0.8738   \n1      0.3018                16475.0                   17055.0    0.5814   \n3      0.1533                19423.0                   10558.0    0.7628   \n4      0.0725                15037.0                    7889.0    0.4590   \n5      0.4385                21676.0                   10478.0    0.5259   \n\n   pell_grant_rate   white   black  hispanic   asian  american_indian  \\\n0           0.7039  0.0256  0.9129    0.0076  0.0019           0.0024   \n1           0.3525  0.5786  0.2626    0.0309  0.0598           0.0028   \n3           0.2949  0.7148  0.1131    0.0411  0.0414           0.0120   \n4           0.7815  0.0138  0.9337    0.0111  0.0028           0.0013   \n5           0.1938  0.7841  0.1037    0.0437  0.0118           0.0036   \n\n   hawaiian_pcislander  race_ethnicity_two  nonresident  unknown  \n0               0.0017              0.0401       0.0065   0.0013  \n1               0.0004              0.0387       0.0179   0.0083  \n3               0.0000              0.0181       0.0303   0.0292  \n4               0.0004              0.0111       0.0159   0.0100  \n5               0.0009              0.0297       0.0192   0.0033  "
          },
          "metadata": {}
        }
      ]
    },
    {
      "metadata": {
        "trusted": true
      },
      "cell_type": "code",
      "source": "import statsmodels.formula.api as sm\nreg1 = sm.ols(formula = 'completion ~ public_school_tuition + expenditures_per_student + adm_rate +pell_grant_rate + white + black + hispanic + asian + american_indian + hawaiian_pcislander + race_ethnicity_two + nonresident + unknown', data = df). fit()\nreg1.summary()",
      "execution_count": 9,
      "outputs": [
        {
          "output_type": "error",
          "ename": "PatsyError",
          "evalue": "Error evaluating factor: NameError: name 'pell_grant_rate' is not defined\n    completion ~ public_school_tuition + expenditures_per_student + adm_rate +pell_grant_rate + white + black + hispanic + asian + american_indian + hawaiian_pcislander + race_ethnicity_two + nonresident + unknown\n                                                                              ^^^^^^^^^^^^^^^",
          "traceback": [
            "\u001b[0;31m---------------------------------------------------------------------------\u001b[0m",
            "\u001b[0;31mNameError\u001b[0m                                 Traceback (most recent call last)",
            "\u001b[0;32m~/anaconda3_501/lib/python3.6/site-packages/patsy/compat.py\u001b[0m in \u001b[0;36mcall_and_wrap_exc\u001b[0;34m(msg, origin, f, *args, **kwargs)\u001b[0m\n\u001b[1;32m    116\u001b[0m     \u001b[0;32mtry\u001b[0m\u001b[0;34m:\u001b[0m\u001b[0;34m\u001b[0m\u001b[0m\n\u001b[0;32m--> 117\u001b[0;31m         \u001b[0;32mreturn\u001b[0m \u001b[0mf\u001b[0m\u001b[0;34m(\u001b[0m\u001b[0;34m*\u001b[0m\u001b[0margs\u001b[0m\u001b[0;34m,\u001b[0m \u001b[0;34m**\u001b[0m\u001b[0mkwargs\u001b[0m\u001b[0;34m)\u001b[0m\u001b[0;34m\u001b[0m\u001b[0m\n\u001b[0m\u001b[1;32m    118\u001b[0m     \u001b[0;32mexcept\u001b[0m \u001b[0mException\u001b[0m \u001b[0;32mas\u001b[0m \u001b[0me\u001b[0m\u001b[0;34m:\u001b[0m\u001b[0;34m\u001b[0m\u001b[0m\n",
            "\u001b[0;32m~/anaconda3_501/lib/python3.6/site-packages/patsy/eval.py\u001b[0m in \u001b[0;36meval\u001b[0;34m(self, expr, source_name, inner_namespace)\u001b[0m\n\u001b[1;32m    165\u001b[0m         return eval(code, {}, VarLookupDict([inner_namespace]\n\u001b[0;32m--> 166\u001b[0;31m                                             + self._namespaces))\n\u001b[0m\u001b[1;32m    167\u001b[0m \u001b[0;34m\u001b[0m\u001b[0m\n",
            "\u001b[0;32m<string>\u001b[0m in \u001b[0;36m<module>\u001b[0;34m()\u001b[0m\n",
            "\u001b[0;31mNameError\u001b[0m: name 'pell_grant_rate' is not defined",
            "\nThe above exception was the direct cause of the following exception:\n",
            "\u001b[0;31mPatsyError\u001b[0m                                Traceback (most recent call last)",
            "\u001b[0;32m<ipython-input-9-c4751104e289>\u001b[0m in \u001b[0;36m<module>\u001b[0;34m()\u001b[0m\n\u001b[1;32m      1\u001b[0m \u001b[0;32mimport\u001b[0m \u001b[0mstatsmodels\u001b[0m\u001b[0;34m.\u001b[0m\u001b[0mformula\u001b[0m\u001b[0;34m.\u001b[0m\u001b[0mapi\u001b[0m \u001b[0;32mas\u001b[0m \u001b[0msm\u001b[0m\u001b[0;34m\u001b[0m\u001b[0m\n\u001b[0;32m----> 2\u001b[0;31m \u001b[0mreg1\u001b[0m \u001b[0;34m=\u001b[0m \u001b[0msm\u001b[0m\u001b[0;34m.\u001b[0m\u001b[0mols\u001b[0m\u001b[0;34m(\u001b[0m\u001b[0mformula\u001b[0m \u001b[0;34m=\u001b[0m \u001b[0;34m'completion ~ public_school_tuition + expenditures_per_student + adm_rate +pell_grant_rate + white + black + hispanic + asian + american_indian + hawaiian_pcislander + race_ethnicity_two + nonresident + unknown'\u001b[0m\u001b[0;34m,\u001b[0m \u001b[0mdata\u001b[0m \u001b[0;34m=\u001b[0m \u001b[0mdf\u001b[0m\u001b[0;34m)\u001b[0m\u001b[0;34m.\u001b[0m \u001b[0mfit\u001b[0m\u001b[0;34m(\u001b[0m\u001b[0;34m)\u001b[0m\u001b[0;34m\u001b[0m\u001b[0m\n\u001b[0m\u001b[1;32m      3\u001b[0m \u001b[0mreg1\u001b[0m\u001b[0;34m.\u001b[0m\u001b[0msummary\u001b[0m\u001b[0;34m(\u001b[0m\u001b[0;34m)\u001b[0m\u001b[0;34m\u001b[0m\u001b[0m\n",
            "\u001b[0;32m~/anaconda3_501/lib/python3.6/site-packages/statsmodels/base/model.py\u001b[0m in \u001b[0;36mfrom_formula\u001b[0;34m(cls, formula, data, subset, drop_cols, *args, **kwargs)\u001b[0m\n\u001b[1;32m    153\u001b[0m \u001b[0;34m\u001b[0m\u001b[0m\n\u001b[1;32m    154\u001b[0m         tmp = handle_formula_data(data, None, formula, depth=eval_env,\n\u001b[0;32m--> 155\u001b[0;31m                                   missing=missing)\n\u001b[0m\u001b[1;32m    156\u001b[0m         \u001b[0;34m(\u001b[0m\u001b[0;34m(\u001b[0m\u001b[0mendog\u001b[0m\u001b[0;34m,\u001b[0m \u001b[0mexog\u001b[0m\u001b[0;34m)\u001b[0m\u001b[0;34m,\u001b[0m \u001b[0mmissing_idx\u001b[0m\u001b[0;34m,\u001b[0m \u001b[0mdesign_info\u001b[0m\u001b[0;34m)\u001b[0m \u001b[0;34m=\u001b[0m \u001b[0mtmp\u001b[0m\u001b[0;34m\u001b[0m\u001b[0m\n\u001b[1;32m    157\u001b[0m \u001b[0;34m\u001b[0m\u001b[0m\n",
            "\u001b[0;32m~/anaconda3_501/lib/python3.6/site-packages/statsmodels/formula/formulatools.py\u001b[0m in \u001b[0;36mhandle_formula_data\u001b[0;34m(Y, X, formula, depth, missing)\u001b[0m\n\u001b[1;32m     63\u001b[0m         \u001b[0;32mif\u001b[0m \u001b[0mdata_util\u001b[0m\u001b[0;34m.\u001b[0m\u001b[0m_is_using_pandas\u001b[0m\u001b[0;34m(\u001b[0m\u001b[0mY\u001b[0m\u001b[0;34m,\u001b[0m \u001b[0;32mNone\u001b[0m\u001b[0;34m)\u001b[0m\u001b[0;34m:\u001b[0m\u001b[0;34m\u001b[0m\u001b[0m\n\u001b[1;32m     64\u001b[0m             result = dmatrices(formula, Y, depth, return_type='dataframe',\n\u001b[0;32m---> 65\u001b[0;31m                                NA_action=na_action)\n\u001b[0m\u001b[1;32m     66\u001b[0m         \u001b[0;32melse\u001b[0m\u001b[0;34m:\u001b[0m\u001b[0;34m\u001b[0m\u001b[0m\n\u001b[1;32m     67\u001b[0m             result = dmatrices(formula, Y, depth, return_type='dataframe',\n",
            "\u001b[0;32m~/anaconda3_501/lib/python3.6/site-packages/patsy/highlevel.py\u001b[0m in \u001b[0;36mdmatrices\u001b[0;34m(formula_like, data, eval_env, NA_action, return_type)\u001b[0m\n\u001b[1;32m    308\u001b[0m     \u001b[0meval_env\u001b[0m \u001b[0;34m=\u001b[0m \u001b[0mEvalEnvironment\u001b[0m\u001b[0;34m.\u001b[0m\u001b[0mcapture\u001b[0m\u001b[0;34m(\u001b[0m\u001b[0meval_env\u001b[0m\u001b[0;34m,\u001b[0m \u001b[0mreference\u001b[0m\u001b[0;34m=\u001b[0m\u001b[0;36m1\u001b[0m\u001b[0;34m)\u001b[0m\u001b[0;34m\u001b[0m\u001b[0m\n\u001b[1;32m    309\u001b[0m     (lhs, rhs) = _do_highlevel_design(formula_like, data, eval_env,\n\u001b[0;32m--> 310\u001b[0;31m                                       NA_action, return_type)\n\u001b[0m\u001b[1;32m    311\u001b[0m     \u001b[0;32mif\u001b[0m \u001b[0mlhs\u001b[0m\u001b[0;34m.\u001b[0m\u001b[0mshape\u001b[0m\u001b[0;34m[\u001b[0m\u001b[0;36m1\u001b[0m\u001b[0;34m]\u001b[0m \u001b[0;34m==\u001b[0m \u001b[0;36m0\u001b[0m\u001b[0;34m:\u001b[0m\u001b[0;34m\u001b[0m\u001b[0m\n\u001b[1;32m    312\u001b[0m         \u001b[0;32mraise\u001b[0m \u001b[0mPatsyError\u001b[0m\u001b[0;34m(\u001b[0m\u001b[0;34m\"model is missing required outcome variables\"\u001b[0m\u001b[0;34m)\u001b[0m\u001b[0;34m\u001b[0m\u001b[0m\n",
            "\u001b[0;32m~/anaconda3_501/lib/python3.6/site-packages/patsy/highlevel.py\u001b[0m in \u001b[0;36m_do_highlevel_design\u001b[0;34m(formula_like, data, eval_env, NA_action, return_type)\u001b[0m\n\u001b[1;32m    163\u001b[0m         \u001b[0;32mreturn\u001b[0m \u001b[0miter\u001b[0m\u001b[0;34m(\u001b[0m\u001b[0;34m[\u001b[0m\u001b[0mdata\u001b[0m\u001b[0;34m]\u001b[0m\u001b[0;34m)\u001b[0m\u001b[0;34m\u001b[0m\u001b[0m\n\u001b[1;32m    164\u001b[0m     design_infos = _try_incr_builders(formula_like, data_iter_maker, eval_env,\n\u001b[0;32m--> 165\u001b[0;31m                                       NA_action)\n\u001b[0m\u001b[1;32m    166\u001b[0m     \u001b[0;32mif\u001b[0m \u001b[0mdesign_infos\u001b[0m \u001b[0;32mis\u001b[0m \u001b[0;32mnot\u001b[0m \u001b[0;32mNone\u001b[0m\u001b[0;34m:\u001b[0m\u001b[0;34m\u001b[0m\u001b[0m\n\u001b[1;32m    167\u001b[0m         return build_design_matrices(design_infos, data,\n",
            "\u001b[0;32m~/anaconda3_501/lib/python3.6/site-packages/patsy/highlevel.py\u001b[0m in \u001b[0;36m_try_incr_builders\u001b[0;34m(formula_like, data_iter_maker, eval_env, NA_action)\u001b[0m\n\u001b[1;32m     68\u001b[0m                                       \u001b[0mdata_iter_maker\u001b[0m\u001b[0;34m,\u001b[0m\u001b[0;34m\u001b[0m\u001b[0m\n\u001b[1;32m     69\u001b[0m                                       \u001b[0meval_env\u001b[0m\u001b[0;34m,\u001b[0m\u001b[0;34m\u001b[0m\u001b[0m\n\u001b[0;32m---> 70\u001b[0;31m                                       NA_action)\n\u001b[0m\u001b[1;32m     71\u001b[0m     \u001b[0;32melse\u001b[0m\u001b[0;34m:\u001b[0m\u001b[0;34m\u001b[0m\u001b[0m\n\u001b[1;32m     72\u001b[0m         \u001b[0;32mreturn\u001b[0m \u001b[0;32mNone\u001b[0m\u001b[0;34m\u001b[0m\u001b[0m\n",
            "\u001b[0;32m~/anaconda3_501/lib/python3.6/site-packages/patsy/build.py\u001b[0m in \u001b[0;36mdesign_matrix_builders\u001b[0;34m(termlists, data_iter_maker, eval_env, NA_action)\u001b[0m\n\u001b[1;32m    694\u001b[0m                                                    \u001b[0mfactor_states\u001b[0m\u001b[0;34m,\u001b[0m\u001b[0;34m\u001b[0m\u001b[0m\n\u001b[1;32m    695\u001b[0m                                                    \u001b[0mdata_iter_maker\u001b[0m\u001b[0;34m,\u001b[0m\u001b[0;34m\u001b[0m\u001b[0m\n\u001b[0;32m--> 696\u001b[0;31m                                                    NA_action)\n\u001b[0m\u001b[1;32m    697\u001b[0m     \u001b[0;31m# Now we need the factor infos, which encapsulate the knowledge of\u001b[0m\u001b[0;34m\u001b[0m\u001b[0;34m\u001b[0m\u001b[0m\n\u001b[1;32m    698\u001b[0m     \u001b[0;31m# how to turn any given factor into a chunk of data:\u001b[0m\u001b[0;34m\u001b[0m\u001b[0;34m\u001b[0m\u001b[0m\n",
            "\u001b[0;32m~/anaconda3_501/lib/python3.6/site-packages/patsy/build.py\u001b[0m in \u001b[0;36m_examine_factor_types\u001b[0;34m(factors, factor_states, data_iter_maker, NA_action)\u001b[0m\n\u001b[1;32m    441\u001b[0m     \u001b[0;32mfor\u001b[0m \u001b[0mdata\u001b[0m \u001b[0;32min\u001b[0m \u001b[0mdata_iter_maker\u001b[0m\u001b[0;34m(\u001b[0m\u001b[0;34m)\u001b[0m\u001b[0;34m:\u001b[0m\u001b[0;34m\u001b[0m\u001b[0m\n\u001b[1;32m    442\u001b[0m         \u001b[0;32mfor\u001b[0m \u001b[0mfactor\u001b[0m \u001b[0;32min\u001b[0m \u001b[0mlist\u001b[0m\u001b[0;34m(\u001b[0m\u001b[0mexamine_needed\u001b[0m\u001b[0;34m)\u001b[0m\u001b[0;34m:\u001b[0m\u001b[0;34m\u001b[0m\u001b[0m\n\u001b[0;32m--> 443\u001b[0;31m             \u001b[0mvalue\u001b[0m \u001b[0;34m=\u001b[0m \u001b[0mfactor\u001b[0m\u001b[0;34m.\u001b[0m\u001b[0meval\u001b[0m\u001b[0;34m(\u001b[0m\u001b[0mfactor_states\u001b[0m\u001b[0;34m[\u001b[0m\u001b[0mfactor\u001b[0m\u001b[0;34m]\u001b[0m\u001b[0;34m,\u001b[0m \u001b[0mdata\u001b[0m\u001b[0;34m)\u001b[0m\u001b[0;34m\u001b[0m\u001b[0m\n\u001b[0m\u001b[1;32m    444\u001b[0m             \u001b[0;32mif\u001b[0m \u001b[0mfactor\u001b[0m \u001b[0;32min\u001b[0m \u001b[0mcat_sniffers\u001b[0m \u001b[0;32mor\u001b[0m \u001b[0mguess_categorical\u001b[0m\u001b[0;34m(\u001b[0m\u001b[0mvalue\u001b[0m\u001b[0;34m)\u001b[0m\u001b[0;34m:\u001b[0m\u001b[0;34m\u001b[0m\u001b[0m\n\u001b[1;32m    445\u001b[0m                 \u001b[0;32mif\u001b[0m \u001b[0mfactor\u001b[0m \u001b[0;32mnot\u001b[0m \u001b[0;32min\u001b[0m \u001b[0mcat_sniffers\u001b[0m\u001b[0;34m:\u001b[0m\u001b[0;34m\u001b[0m\u001b[0m\n",
            "\u001b[0;32m~/anaconda3_501/lib/python3.6/site-packages/patsy/eval.py\u001b[0m in \u001b[0;36meval\u001b[0;34m(self, memorize_state, data)\u001b[0m\n\u001b[1;32m    564\u001b[0m         return self._eval(memorize_state[\"eval_code\"],\n\u001b[1;32m    565\u001b[0m                           \u001b[0mmemorize_state\u001b[0m\u001b[0;34m,\u001b[0m\u001b[0;34m\u001b[0m\u001b[0m\n\u001b[0;32m--> 566\u001b[0;31m                           data)\n\u001b[0m\u001b[1;32m    567\u001b[0m \u001b[0;34m\u001b[0m\u001b[0m\n\u001b[1;32m    568\u001b[0m     \u001b[0m__getstate__\u001b[0m \u001b[0;34m=\u001b[0m \u001b[0mno_pickling\u001b[0m\u001b[0;34m\u001b[0m\u001b[0m\n",
            "\u001b[0;32m~/anaconda3_501/lib/python3.6/site-packages/patsy/eval.py\u001b[0m in \u001b[0;36m_eval\u001b[0;34m(self, code, memorize_state, data)\u001b[0m\n\u001b[1;32m    549\u001b[0m                                  \u001b[0mmemorize_state\u001b[0m\u001b[0;34m[\u001b[0m\u001b[0;34m\"eval_env\"\u001b[0m\u001b[0;34m]\u001b[0m\u001b[0;34m.\u001b[0m\u001b[0meval\u001b[0m\u001b[0;34m,\u001b[0m\u001b[0;34m\u001b[0m\u001b[0m\n\u001b[1;32m    550\u001b[0m                                  \u001b[0mcode\u001b[0m\u001b[0;34m,\u001b[0m\u001b[0;34m\u001b[0m\u001b[0m\n\u001b[0;32m--> 551\u001b[0;31m                                  inner_namespace=inner_namespace)\n\u001b[0m\u001b[1;32m    552\u001b[0m \u001b[0;34m\u001b[0m\u001b[0m\n\u001b[1;32m    553\u001b[0m     \u001b[0;32mdef\u001b[0m \u001b[0mmemorize_chunk\u001b[0m\u001b[0;34m(\u001b[0m\u001b[0mself\u001b[0m\u001b[0;34m,\u001b[0m \u001b[0mstate\u001b[0m\u001b[0;34m,\u001b[0m \u001b[0mwhich_pass\u001b[0m\u001b[0;34m,\u001b[0m \u001b[0mdata\u001b[0m\u001b[0;34m)\u001b[0m\u001b[0;34m:\u001b[0m\u001b[0;34m\u001b[0m\u001b[0m\n",
            "\u001b[0;32m~/anaconda3_501/lib/python3.6/site-packages/patsy/compat.py\u001b[0m in \u001b[0;36mcall_and_wrap_exc\u001b[0;34m(msg, origin, f, *args, **kwargs)\u001b[0m\n\u001b[1;32m    122\u001b[0m                                  origin)\n\u001b[1;32m    123\u001b[0m             \u001b[0;31m# Use 'exec' to hide this syntax from the Python 2 parser:\u001b[0m\u001b[0;34m\u001b[0m\u001b[0;34m\u001b[0m\u001b[0m\n\u001b[0;32m--> 124\u001b[0;31m             \u001b[0mexec\u001b[0m\u001b[0;34m(\u001b[0m\u001b[0;34m\"raise new_exc from e\"\u001b[0m\u001b[0;34m)\u001b[0m\u001b[0;34m\u001b[0m\u001b[0m\n\u001b[0m\u001b[1;32m    125\u001b[0m         \u001b[0;32melse\u001b[0m\u001b[0;34m:\u001b[0m\u001b[0;34m\u001b[0m\u001b[0m\n\u001b[1;32m    126\u001b[0m             \u001b[0;31m# In python 2, we just let the original exception escape -- better\u001b[0m\u001b[0;34m\u001b[0m\u001b[0;34m\u001b[0m\u001b[0m\n",
            "\u001b[0;32m~/anaconda3_501/lib/python3.6/site-packages/patsy/compat.py\u001b[0m in \u001b[0;36m<module>\u001b[0;34m()\u001b[0m\n",
            "\u001b[0;31mPatsyError\u001b[0m: Error evaluating factor: NameError: name 'pell_grant_rate' is not defined\n    completion ~ public_school_tuition + expenditures_per_student + adm_rate +pell_grant_rate + white + black + hispanic + asian + american_indian + hawaiian_pcislander + race_ethnicity_two + nonresident + unknown\n                                                                              ^^^^^^^^^^^^^^^"
          ]
        }
      ]
    },
    {
      "metadata": {
        "trusted": true
      },
      "cell_type": "code",
      "source": "reg2 = sm.ols(formula = 'completion ~ public_school_tuition + expenditures_per_student + adm_rate + pell_grant_rate + white + black + hispanic + asian', data = df).fit()\nreg2.summary()",
      "execution_count": 23,
      "outputs": [
        {
          "output_type": "execute_result",
          "execution_count": 23,
          "data": {
            "text/html": "<table class=\"simpletable\">\n<caption>OLS Regression Results</caption>\n<tr>\n  <th>Dep. Variable:</th>       <td>completion</td>    <th>  R-squared:         </th> <td>   0.540</td>\n</tr>\n<tr>\n  <th>Model:</th>                   <td>OLS</td>       <th>  Adj. R-squared:    </th> <td>   0.533</td>\n</tr>\n<tr>\n  <th>Method:</th>             <td>Least Squares</td>  <th>  F-statistic:       </th> <td>   78.44</td>\n</tr>\n<tr>\n  <th>Date:</th>             <td>Tue, 23 Oct 2018</td> <th>  Prob (F-statistic):</th> <td>3.99e-85</td>\n</tr>\n<tr>\n  <th>Time:</th>                 <td>17:48:49</td>     <th>  Log-Likelihood:    </th> <td>  395.26</td>\n</tr>\n<tr>\n  <th>No. Observations:</th>      <td>   543</td>      <th>  AIC:               </th> <td>  -772.5</td>\n</tr>\n<tr>\n  <th>Df Residuals:</th>          <td>   534</td>      <th>  BIC:               </th> <td>  -733.8</td>\n</tr>\n<tr>\n  <th>Df Model:</th>              <td>     8</td>      <th>                     </th>     <td> </td>   \n</tr>\n<tr>\n  <th>Covariance Type:</th>      <td>nonrobust</td>    <th>                     </th>     <td> </td>   \n</tr>\n</table>\n<table class=\"simpletable\">\n<tr>\n              <td></td>                <th>coef</th>     <th>std err</th>      <th>t</th>      <th>P>|t|</th>  <th>[0.025</th>    <th>0.975]</th>  \n</tr>\n<tr>\n  <th>Intercept</th>                <td>   -0.0138</td> <td>    0.082</td> <td>   -0.168</td> <td> 0.866</td> <td>   -0.175</td> <td>    0.147</td>\n</tr>\n<tr>\n  <th>public_school_tuition</th>    <td> 1.344e-05</td> <td>  1.5e-06</td> <td>    8.934</td> <td> 0.000</td> <td> 1.05e-05</td> <td> 1.64e-05</td>\n</tr>\n<tr>\n  <th>expenditures_per_student</th> <td> 1.167e-05</td> <td> 1.41e-06</td> <td>    8.260</td> <td> 0.000</td> <td> 8.89e-06</td> <td> 1.44e-05</td>\n</tr>\n<tr>\n  <th>adm_rate</th>                 <td>   -0.1529</td> <td>    0.034</td> <td>   -4.493</td> <td> 0.000</td> <td>   -0.220</td> <td>   -0.086</td>\n</tr>\n<tr>\n  <th>pell_grant_rate</th>          <td>   -0.3355</td> <td>    0.068</td> <td>   -4.950</td> <td> 0.000</td> <td>   -0.469</td> <td>   -0.202</td>\n</tr>\n<tr>\n  <th>white</th>                    <td>    0.2569</td> <td>    0.079</td> <td>    3.265</td> <td> 0.001</td> <td>    0.102</td> <td>    0.411</td>\n</tr>\n<tr>\n  <th>black</th>                    <td>    0.1534</td> <td>    0.084</td> <td>    1.823</td> <td> 0.069</td> <td>   -0.012</td> <td>    0.319</td>\n</tr>\n<tr>\n  <th>hispanic</th>                 <td>    0.2881</td> <td>    0.082</td> <td>    3.532</td> <td> 0.000</td> <td>    0.128</td> <td>    0.448</td>\n</tr>\n<tr>\n  <th>asian</th>                    <td>    0.4472</td> <td>    0.131</td> <td>    3.409</td> <td> 0.001</td> <td>    0.189</td> <td>    0.705</td>\n</tr>\n</table>\n<table class=\"simpletable\">\n<tr>\n  <th>Omnibus:</th>       <td> 6.186</td> <th>  Durbin-Watson:     </th> <td>   1.607</td>\n</tr>\n<tr>\n  <th>Prob(Omnibus):</th> <td> 0.045</td> <th>  Jarque-Bera (JB):  </th> <td>   8.013</td>\n</tr>\n<tr>\n  <th>Skew:</th>          <td> 0.090</td> <th>  Prob(JB):          </th> <td>  0.0182</td>\n</tr>\n<tr>\n  <th>Kurtosis:</th>      <td> 3.567</td> <th>  Cond. No.          </th> <td>6.61e+05</td>\n</tr>\n</table>",
            "text/plain": "<class 'statsmodels.iolib.summary.Summary'>\n\"\"\"\n                            OLS Regression Results                            \n==============================================================================\nDep. Variable:             completion   R-squared:                       0.540\nModel:                            OLS   Adj. R-squared:                  0.533\nMethod:                 Least Squares   F-statistic:                     78.44\nDate:                Tue, 23 Oct 2018   Prob (F-statistic):           3.99e-85\nTime:                        17:48:49   Log-Likelihood:                 395.26\nNo. Observations:                 543   AIC:                            -772.5\nDf Residuals:                     534   BIC:                            -733.8\nDf Model:                           8                                         \nCovariance Type:            nonrobust                                         \n============================================================================================\n                               coef    std err          t      P>|t|      [0.025      0.975]\n--------------------------------------------------------------------------------------------\nIntercept                   -0.0138      0.082     -0.168      0.866      -0.175       0.147\npublic_school_tuition     1.344e-05    1.5e-06      8.934      0.000    1.05e-05    1.64e-05\nexpenditures_per_student  1.167e-05   1.41e-06      8.260      0.000    8.89e-06    1.44e-05\nadm_rate                    -0.1529      0.034     -4.493      0.000      -0.220      -0.086\npell_grant_rate             -0.3355      0.068     -4.950      0.000      -0.469      -0.202\nwhite                        0.2569      0.079      3.265      0.001       0.102       0.411\nblack                        0.1534      0.084      1.823      0.069      -0.012       0.319\nhispanic                     0.2881      0.082      3.532      0.000       0.128       0.448\nasian                        0.4472      0.131      3.409      0.001       0.189       0.705\n==============================================================================\nOmnibus:                        6.186   Durbin-Watson:                   1.607\nProb(Omnibus):                  0.045   Jarque-Bera (JB):                8.013\nSkew:                           0.090   Prob(JB):                       0.0182\nKurtosis:                       3.567   Cond. No.                     6.61e+05\n==============================================================================\n\nWarnings:\n[1] Standard Errors assume that the covariance matrix of the errors is correctly specified.\n[2] The condition number is large, 6.61e+05. This might indicate that there are\nstrong multicollinearity or other numerical problems.\n\"\"\""
          },
          "metadata": {}
        }
      ]
    },
    {
      "metadata": {
        "trusted": true
      },
      "cell_type": "code",
      "source": "df[\"log_public_school_tuition\"] = np.log(df['public_school_tuition'])\ndf[\"public_school_tuition_thousands\"] = df[\"public_school_tuition\"]/1000\ndf[\"log_expenditures_per_student\"] = np.log(df['expenditures_per_student'])\ndf[\"expenditures_per_student_thousands\"] = df[\"expenditures_per_student\"]/1000\n",
      "execution_count": null,
      "outputs": []
    },
    {
      "metadata": {
        "trusted": true
      },
      "cell_type": "code",
      "source": "df.head()",
      "execution_count": null,
      "outputs": []
    },
    {
      "metadata": {
        "trusted": true
      },
      "cell_type": "code",
      "source": "df = dfraw[[\"C100_4\", \"AVGFACSAL\"]]\ndf.columns = [\"completion\", \"faculty_salary\"]\ndf.head()",
      "execution_count": 18,
      "outputs": [
        {
          "output_type": "execute_result",
          "execution_count": 18,
          "data": {
            "text/html": "<div>\n<style scoped>\n    .dataframe tbody tr th:only-of-type {\n        vertical-align: middle;\n    }\n\n    .dataframe tbody tr th {\n        vertical-align: top;\n    }\n\n    .dataframe thead th {\n        text-align: right;\n    }\n</style>\n<table border=\"1\" class=\"dataframe\">\n  <thead>\n    <tr style=\"text-align: right;\">\n      <th></th>\n      <th>completion</th>\n      <th>faculty_salary</th>\n    </tr>\n  </thead>\n  <tbody>\n    <tr>\n      <th>0</th>\n      <td>0.0643</td>\n      <td>7028.0</td>\n    </tr>\n    <tr>\n      <th>1</th>\n      <td>0.3018</td>\n      <td>10517.0</td>\n    </tr>\n    <tr>\n      <th>2</th>\n      <td>0.1429</td>\n      <td>3857.0</td>\n    </tr>\n    <tr>\n      <th>3</th>\n      <td>0.1533</td>\n      <td>9463.0</td>\n    </tr>\n    <tr>\n      <th>4</th>\n      <td>0.0725</td>\n      <td>7952.0</td>\n    </tr>\n  </tbody>\n</table>\n</div>",
            "text/plain": "   completion  faculty_salary\n0      0.0643          7028.0\n1      0.3018         10517.0\n2      0.1429          3857.0\n3      0.1533          9463.0\n4      0.0725          7952.0"
          },
          "metadata": {}
        }
      ]
    },
    {
      "metadata": {
        "trusted": true
      },
      "cell_type": "code",
      "source": "df.corr()",
      "execution_count": 19,
      "outputs": [
        {
          "output_type": "execute_result",
          "execution_count": 19,
          "data": {
            "text/html": "<div>\n<style scoped>\n    .dataframe tbody tr th:only-of-type {\n        vertical-align: middle;\n    }\n\n    .dataframe tbody tr th {\n        vertical-align: top;\n    }\n\n    .dataframe thead th {\n        text-align: right;\n    }\n</style>\n<table border=\"1\" class=\"dataframe\">\n  <thead>\n    <tr style=\"text-align: right;\">\n      <th></th>\n      <th>completion</th>\n      <th>faculty_salary</th>\n    </tr>\n  </thead>\n  <tbody>\n    <tr>\n      <th>completion</th>\n      <td>1.000000</td>\n      <td>0.505451</td>\n    </tr>\n    <tr>\n      <th>faculty_salary</th>\n      <td>0.505451</td>\n      <td>1.000000</td>\n    </tr>\n  </tbody>\n</table>\n</div>",
            "text/plain": "                completion  faculty_salary\ncompletion        1.000000        0.505451\nfaculty_salary    0.505451        1.000000"
          },
          "metadata": {}
        }
      ]
    },
    {
      "metadata": {
        "trusted": true
      },
      "cell_type": "code",
      "source": "df = dfraw[[\"C100_4\",\"DISTANCEONLY\"]]\ndf.columns = [\"completion\", \"onlineschool\"]\ndf.head()",
      "execution_count": 14,
      "outputs": [
        {
          "output_type": "execute_result",
          "execution_count": 14,
          "data": {
            "text/html": "<div>\n<style scoped>\n    .dataframe tbody tr th:only-of-type {\n        vertical-align: middle;\n    }\n\n    .dataframe tbody tr th {\n        vertical-align: top;\n    }\n\n    .dataframe thead th {\n        text-align: right;\n    }\n</style>\n<table border=\"1\" class=\"dataframe\">\n  <thead>\n    <tr style=\"text-align: right;\">\n      <th></th>\n      <th>completion</th>\n      <th>onlineschool</th>\n    </tr>\n  </thead>\n  <tbody>\n    <tr>\n      <th>0</th>\n      <td>0.0643</td>\n      <td>0.0</td>\n    </tr>\n    <tr>\n      <th>1</th>\n      <td>0.3018</td>\n      <td>0.0</td>\n    </tr>\n    <tr>\n      <th>2</th>\n      <td>0.1429</td>\n      <td>1.0</td>\n    </tr>\n    <tr>\n      <th>3</th>\n      <td>0.1533</td>\n      <td>0.0</td>\n    </tr>\n    <tr>\n      <th>4</th>\n      <td>0.0725</td>\n      <td>0.0</td>\n    </tr>\n  </tbody>\n</table>\n</div>",
            "text/plain": "   completion  onlineschool\n0      0.0643           0.0\n1      0.3018           0.0\n2      0.1429           1.0\n3      0.1533           0.0\n4      0.0725           0.0"
          },
          "metadata": {}
        }
      ]
    },
    {
      "metadata": {
        "trusted": true
      },
      "cell_type": "code",
      "source": "df.corr()",
      "execution_count": 20,
      "outputs": [
        {
          "output_type": "execute_result",
          "execution_count": 20,
          "data": {
            "text/html": "<div>\n<style scoped>\n    .dataframe tbody tr th:only-of-type {\n        vertical-align: middle;\n    }\n\n    .dataframe tbody tr th {\n        vertical-align: top;\n    }\n\n    .dataframe thead th {\n        text-align: right;\n    }\n</style>\n<table border=\"1\" class=\"dataframe\">\n  <thead>\n    <tr style=\"text-align: right;\">\n      <th></th>\n      <th>completion</th>\n      <th>faculty_salary</th>\n    </tr>\n  </thead>\n  <tbody>\n    <tr>\n      <th>completion</th>\n      <td>1.000000</td>\n      <td>0.505451</td>\n    </tr>\n    <tr>\n      <th>faculty_salary</th>\n      <td>0.505451</td>\n      <td>1.000000</td>\n    </tr>\n  </tbody>\n</table>\n</div>",
            "text/plain": "                completion  faculty_salary\ncompletion        1.000000        0.505451\nfaculty_salary    0.505451        1.000000"
          },
          "metadata": {}
        }
      ]
    },
    {
      "metadata": {
        "trusted": true
      },
      "cell_type": "code",
      "source": "df.dropna(inplace=True)\ndf.head()",
      "execution_count": 22,
      "outputs": [
        {
          "output_type": "stream",
          "text": "/home/nbuser/anaconda3_501/lib/python3.6/site-packages/ipykernel/__main__.py:1: SettingWithCopyWarning: \nA value is trying to be set on a copy of a slice from a DataFrame\n\nSee the caveats in the documentation: http://pandas.pydata.org/pandas-docs/stable/indexing.html#indexing-view-versus-copy\n  if __name__ == '__main__':\n",
          "name": "stderr"
        },
        {
          "output_type": "execute_result",
          "execution_count": 22,
          "data": {
            "text/html": "<div>\n<style scoped>\n    .dataframe tbody tr th:only-of-type {\n        vertical-align: middle;\n    }\n\n    .dataframe tbody tr th {\n        vertical-align: top;\n    }\n\n    .dataframe thead th {\n        text-align: right;\n    }\n</style>\n<table border=\"1\" class=\"dataframe\">\n  <thead>\n    <tr style=\"text-align: right;\">\n      <th></th>\n      <th>completion</th>\n      <th>faculty_salary</th>\n    </tr>\n  </thead>\n  <tbody>\n    <tr>\n      <th>0</th>\n      <td>0.0643</td>\n      <td>7028.0</td>\n    </tr>\n    <tr>\n      <th>1</th>\n      <td>0.3018</td>\n      <td>10517.0</td>\n    </tr>\n    <tr>\n      <th>2</th>\n      <td>0.1429</td>\n      <td>3857.0</td>\n    </tr>\n    <tr>\n      <th>3</th>\n      <td>0.1533</td>\n      <td>9463.0</td>\n    </tr>\n    <tr>\n      <th>4</th>\n      <td>0.0725</td>\n      <td>7952.0</td>\n    </tr>\n  </tbody>\n</table>\n</div>",
            "text/plain": "   completion  faculty_salary\n0      0.0643          7028.0\n1      0.3018         10517.0\n2      0.1429          3857.0\n3      0.1533          9463.0\n4      0.0725          7952.0"
          },
          "metadata": {}
        }
      ]
    },
    {
      "metadata": {
        "trusted": true
      },
      "cell_type": "code",
      "source": "regF = sm.ols (formula = 'completion~faculty_salary',data = df).fit()\nregF.summary()",
      "execution_count": 23,
      "outputs": [
        {
          "output_type": "execute_result",
          "execution_count": 23,
          "data": {
            "text/html": "<table class=\"simpletable\">\n<caption>OLS Regression Results</caption>\n<tr>\n  <th>Dep. Variable:</th>       <td>completion</td>    <th>  R-squared:         </th> <td>   0.255</td> \n</tr>\n<tr>\n  <th>Model:</th>                   <td>OLS</td>       <th>  Adj. R-squared:    </th> <td>   0.255</td> \n</tr>\n<tr>\n  <th>Method:</th>             <td>Least Squares</td>  <th>  F-statistic:       </th> <td>   712.7</td> \n</tr>\n<tr>\n  <th>Date:</th>             <td>Tue, 30 Oct 2018</td> <th>  Prob (F-statistic):</th> <td>3.04e-135</td>\n</tr>\n<tr>\n  <th>Time:</th>                 <td>15:17:24</td>     <th>  Log-Likelihood:    </th> <td>  378.00</td> \n</tr>\n<tr>\n  <th>No. Observations:</th>      <td>  2079</td>      <th>  AIC:               </th> <td>  -752.0</td> \n</tr>\n<tr>\n  <th>Df Residuals:</th>          <td>  2077</td>      <th>  BIC:               </th> <td>  -740.7</td> \n</tr>\n<tr>\n  <th>Df Model:</th>              <td>     1</td>      <th>                     </th>     <td> </td>    \n</tr>\n<tr>\n  <th>Covariance Type:</th>      <td>nonrobust</td>    <th>                     </th>     <td> </td>    \n</tr>\n</table>\n<table class=\"simpletable\">\n<tr>\n         <td></td>           <th>coef</th>     <th>std err</th>      <th>t</th>      <th>P>|t|</th>  <th>[0.025</th>    <th>0.975]</th>  \n</tr>\n<tr>\n  <th>Intercept</th>      <td>    0.0021</td> <td>    0.013</td> <td>    0.154</td> <td> 0.877</td> <td>   -0.024</td> <td>    0.028</td>\n</tr>\n<tr>\n  <th>faculty_salary</th> <td> 4.751e-05</td> <td> 1.78e-06</td> <td>   26.697</td> <td> 0.000</td> <td>  4.4e-05</td> <td>  5.1e-05</td>\n</tr>\n</table>\n<table class=\"simpletable\">\n<tr>\n  <th>Omnibus:</th>       <td>62.341</td> <th>  Durbin-Watson:     </th> <td>   1.639</td>\n</tr>\n<tr>\n  <th>Prob(Omnibus):</th> <td> 0.000</td> <th>  Jarque-Bera (JB):  </th> <td>  67.751</td>\n</tr>\n<tr>\n  <th>Skew:</th>          <td> 0.418</td> <th>  Prob(JB):          </th> <td>1.94e-15</td>\n</tr>\n<tr>\n  <th>Kurtosis:</th>      <td> 3.286</td> <th>  Cond. No.          </th> <td>2.30e+04</td>\n</tr>\n</table>",
            "text/plain": "<class 'statsmodels.iolib.summary.Summary'>\n\"\"\"\n                            OLS Regression Results                            \n==============================================================================\nDep. Variable:             completion   R-squared:                       0.255\nModel:                            OLS   Adj. R-squared:                  0.255\nMethod:                 Least Squares   F-statistic:                     712.7\nDate:                Tue, 30 Oct 2018   Prob (F-statistic):          3.04e-135\nTime:                        15:17:24   Log-Likelihood:                 378.00\nNo. Observations:                2079   AIC:                            -752.0\nDf Residuals:                    2077   BIC:                            -740.7\nDf Model:                           1                                         \nCovariance Type:            nonrobust                                         \n==================================================================================\n                     coef    std err          t      P>|t|      [0.025      0.975]\n----------------------------------------------------------------------------------\nIntercept          0.0021      0.013      0.154      0.877      -0.024       0.028\nfaculty_salary  4.751e-05   1.78e-06     26.697      0.000     4.4e-05     5.1e-05\n==============================================================================\nOmnibus:                       62.341   Durbin-Watson:                   1.639\nProb(Omnibus):                  0.000   Jarque-Bera (JB):               67.751\nSkew:                           0.418   Prob(JB):                     1.94e-15\nKurtosis:                       3.286   Cond. No.                     2.30e+04\n==============================================================================\n\nWarnings:\n[1] Standard Errors assume that the covariance matrix of the errors is correctly specified.\n[2] The condition number is large, 2.3e+04. This might indicate that there are\nstrong multicollinearity or other numerical problems.\n\"\"\""
          },
          "metadata": {}
        }
      ]
    },
    {
      "metadata": {
        "trusted": true
      },
      "cell_type": "code",
      "source": "",
      "execution_count": null,
      "outputs": []
    }
  ],
  "metadata": {
    "kernelspec": {
      "name": "python36",
      "display_name": "Python 3.6",
      "language": "python"
    },
    "language_info": {
      "mimetype": "text/x-python",
      "nbconvert_exporter": "python",
      "name": "python",
      "pygments_lexer": "ipython3",
      "version": "3.6.6",
      "file_extension": ".py",
      "codemirror_mode": {
        "version": 3,
        "name": "ipython"
      }
    }
  },
  "nbformat": 4,
  "nbformat_minor": 2
}